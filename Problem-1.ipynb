{
 "cells": [
  {
   "cell_type": "code",
   "execution_count": 1,
   "metadata": {},
   "outputs": [],
   "source": [
    "import numpy as np\n",
    "import matplotlib.pyplot as plt"
   ]
  },
  {
   "cell_type": "markdown",
   "metadata": {},
   "source": [
    "# 1D Ising model + Transfer matrix\n",
    "\n",
    "* Construct the transfer matrix at temperature $T$ with external field $B$\n",
    "* Find the eivenvalues of the transfer matrix and compare to the exact results.\n",
    "* Evaluate the partition function $Z$ at different system size $N$ and $T$, $B$. Compare to the exact results.\n",
    "* For a fixed $N$, $T$, $B$, evaluate $\\langle S_0 S_j\\rangle$ where $j=0,1,\\cdots N$. \n",
    "* Plot $\\langle S_0 S_j\\rangle$ up to $j=N/2$ and show that it decays exponentially.\n",
    "  * Please try several $N$, $T$, $B$. What is the largest $N$ you can go? What is the lowest $T$ you can go?"
   ]
  },
  {
   "cell_type": "code",
   "execution_count": null,
   "metadata": {},
   "outputs": [],
   "source": []
  }
 ],
 "metadata": {
  "kernelspec": {
   "display_name": "Python 3",
   "language": "python",
   "name": "python3"
  },
  "language_info": {
   "codemirror_mode": {
    "name": "ipython",
    "version": 3
   },
   "file_extension": ".py",
   "mimetype": "text/x-python",
   "name": "python",
   "nbconvert_exporter": "python",
   "pygments_lexer": "ipython3",
   "version": "3.7.3"
  }
 },
 "nbformat": 4,
 "nbformat_minor": 4
}

import numpy as np
import matplotlib.pyplot as plt
import scipy.optimize
from mpl_toolkits.mplot3d import Axes3D

J=1
kB=1

def impurity_matrix():
    return np.array([[1,0],
                     [0,-1]])
def transfer_matrix(T,B):
    beta=1/(kB*T)
    return np.array([[np.exp(beta*J+beta*B), np.exp(-beta*J)],
                     [np.exp(-beta*J), np.exp(beta*J-beta*B)]])

def TM_lambda(T,B):
    return np.linalg.eigenvalsh(TM(T,B))

def lambda_1(T,B):
    beta=1/(kB*T)
    lambda_1=np.exp(beta*J)*np.cosh(beta*B)+np.sqrt(np.exp(-2*beta*J)+np.exp(2*beta*J)*np.sinh(beta*B)**2)
    return lambda_1

def lambda_2(T,B):
    beta=1/(kB*T)
    lambda_2=np.exp(beta*J)*np.cosh(beta*B)-np.sqrt(np.exp(-2*beta*J)+np.exp(2*beta*J)*np.sinh(beta*B)**2)
    return lambda_2


T=transfer_matrix(1,0)
Tz=impurity_matrix()

print(T)
Z=T@T
Z_Sz=Tz@T@T
Z_SzSz=Tz@T@Tz@T
print(Z)
print(np.trace(Z))
print(np.trace(Z_Sz))
print(np.trace(Z_SzSz))
print(lambda_1(1,0)**2+lambda_2(1,0)**2)
print(np.trace(Z_SzSz)/np.trace(Z))

print(Tz)
print(Tz@T)
print(Tz@T@Tz)
print(Tz@T@Tz@T)
 
N=32
T=transfer_matrix(1,0)
Tz=impurity_matrix()
SzSz=np.zeros(N+1)

for j in range(0,N):
    Z=np.eye(2)
    Z_SzSz=Tz
    for i in range(N):
        Z=Z@T
        if i==j:
            Z_SzSz=Z_SzSz@Tz@T
        else:
            Z_SzSz=Z_SzSz@T
    SzSz[j]=np.trace(Z_SzSz)/np.trace(Z)

SzSz[N]=SzSz[0]
fig, ax=plt.subplots()
ax.plot(SzSz[0:N//2],'*')
plot()
